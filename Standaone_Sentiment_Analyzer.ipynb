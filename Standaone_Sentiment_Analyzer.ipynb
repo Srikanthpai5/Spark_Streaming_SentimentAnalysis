{
 "cells": [
  {
   "cell_type": "code",
   "execution_count": null,
   "source": [
    "import os\r\n",
    "import tweepy as tw\r\n",
    "import configparser\r\n",
    "import pandas as pd\r\n",
    "import re\r\n",
    "import spacy \r\n",
    "import nltk\r\n",
    "from nltk.sentiment.vader import SentimentIntensityAnalyzer\r\n",
    "nltk.download('vader_lexicon')"
   ],
   "outputs": [],
   "metadata": {}
  },
  {
   "cell_type": "code",
   "execution_count": null,
   "source": [
    "config = configparser.RawConfigParser()\r\n",
    "config.read('./twt_credentials.txt')"
   ],
   "outputs": [],
   "metadata": {}
  },
  {
   "cell_type": "code",
   "execution_count": null,
   "source": [
    "accesstoken=config.get('DEFAULT', 'accesstoken')\r\n",
    "accesstokensecret=config.get('DEFAULT', 'accesstokensecret')\r\n",
    "apikey=config.get('DEFAULT', 'apikey')\r\n",
    "apisecretkey=config.get('DEFAULT', 'apisecretkey')"
   ],
   "outputs": [],
   "metadata": {}
  },
  {
   "cell_type": "code",
   "execution_count": null,
   "source": [
    "auth = tw.OAuthHandler(apikey, apisecretkey)\r\n",
    "auth.set_access_token(accesstoken, accesstokensecret)\r\n",
    "api = tw.API(auth, wait_on_rate_limit=True)"
   ],
   "outputs": [],
   "metadata": {}
  },
  {
   "cell_type": "code",
   "execution_count": null,
   "source": [
    "search_words = \"#coronavirus\"\r\n",
    "date_since = \"2020-03-10\""
   ],
   "outputs": [],
   "metadata": {}
  },
  {
   "cell_type": "code",
   "execution_count": null,
   "source": [
    "tweets = tw.Cursor(api.search,\r\n",
    "              q=search_words,\r\n",
    "              lang=\"en\",\r\n",
    "              since=date_since).items(1000)"
   ],
   "outputs": [],
   "metadata": {}
  },
  {
   "cell_type": "code",
   "execution_count": null,
   "source": [
    "tweet_details = [[tweet.geo, tweet.text,tweet.user.screen_name, tweet.user.location] for tweet in tweets]\r\n",
    "#tweet_details\r\n",
    "\r\n",
    "    "
   ],
   "outputs": [],
   "metadata": {}
  },
  {
   "cell_type": "code",
   "execution_count": null,
   "source": [
    "tweet_df = pd.DataFrame(data=tweet_details, columns=['geo','text','user', \"location\"])\r\n",
    "pd.set_option('max_colwidth', 800)\r\n",
    "\r\n",
    "tweet_df.head(20)"
   ],
   "outputs": [],
   "metadata": {}
  },
  {
   "cell_type": "code",
   "execution_count": null,
   "source": [
    "def clean_tweets(text):\r\n",
    "    text = re.sub(\"RT @[\\w]*:\",\"\",text)\r\n",
    "    text = re.sub(\"@[\\w]*\",\"\",text)\r\n",
    "    text = re.sub(\"https?://[A-Za-z0-9./]*\",\"\",text)\r\n",
    "    text = re.sub(\"\\n\",\"\",text)\r\n",
    "    return text"
   ],
   "outputs": [],
   "metadata": {}
  },
  {
   "cell_type": "code",
   "execution_count": null,
   "source": [
    "tweet_df['text']=tweet_df['text'].apply(lambda x: clean_tweets(x))\r\n",
    "tweet_df.to_csv('tweets.csv')\r\n"
   ],
   "outputs": [],
   "metadata": {}
  },
  {
   "cell_type": "code",
   "execution_count": null,
   "source": [],
   "outputs": [],
   "metadata": {}
  },
  {
   "cell_type": "markdown",
   "source": [
    "# Sentiment Analysis\n",
    "\n",
    "## * Using nltk for Sentiment Intensity Analysiis\n",
    "\n",
    "## * Using spacy for Named Entity Recognition and Extraction"
   ],
   "metadata": {}
  },
  {
   "cell_type": "code",
   "execution_count": null,
   "source": [
    "sid = SentimentIntensityAnalyzer()\r\n"
   ],
   "outputs": [],
   "metadata": {}
  },
  {
   "cell_type": "code",
   "execution_count": null,
   "source": [
    "tweet_df['sentiment']=tweet_df['text'].apply(lambda x: sid.polarity_scores(x))\r\n",
    "tweet_df.head(10)\r\n"
   ],
   "outputs": [],
   "metadata": {}
  },
  {
   "cell_type": "code",
   "execution_count": null,
   "source": [
    "# Saving to file with unique id\r\n",
    "\r\n",
    "import datetime\r\n",
    "d= datetime.datetime.now()\r\n",
    "Current_date = \"{}{}{}\".format(d.month,d.day,d.year)\r\n",
    "# print(Current_date)\r\n",
    "\r\n",
    "\r\n",
    "tweet_df.to_csv('outfile_' + str(Current_date) + '_tweets.csv')\r\n"
   ],
   "outputs": [],
   "metadata": {}
  },
  {
   "cell_type": "code",
   "execution_count": null,
   "source": [],
   "outputs": [],
   "metadata": {}
  }
 ],
 "metadata": {
  "kernelspec": {
   "display_name": "Python 3",
   "language": "python",
   "name": "python3"
  },
  "language_info": {
   "codemirror_mode": {
    "name": "ipython",
    "version": 3
   },
   "file_extension": ".py",
   "mimetype": "text/x-python",
   "name": "python",
   "nbconvert_exporter": "python",
   "pygments_lexer": "ipython3",
   "version": "3.8.5"
  }
 },
 "nbformat": 4,
 "nbformat_minor": 5
}